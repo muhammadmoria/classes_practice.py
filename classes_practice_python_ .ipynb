{
 "cells": [
  {
   "cell_type": "raw",
   "id": "44a69484",
   "metadata": {},
   "source": []
  },
  {
   "cell_type": "code",
   "execution_count": 1,
   "id": "847c73a8",
   "metadata": {},
   "outputs": [],
   "source": [
    "class User():\n",
    "    def __init__(self,fname,lname,age,gender):\n",
    "        self.fname=fname\n",
    "        self.lname=lname\n",
    "        self.age =age\n",
    "        self.gender=gender\n",
    "        self.login_attempt = 0\n",
    "    def describe_user(self):\n",
    "        print(f'''\n",
    "             User Name : {self.fname} {self.lname}\n",
    "             User_age  : {self.age}\n",
    "             User_gender: {self.gender}   \n",
    "        \n",
    "        ''')\n",
    "    def greet_user(self):\n",
    "        print(f\"\"\"\n",
    "                 This is students portal\n",
    "                 \n",
    "                 Welcome to portal {self.fname} {self.lname}\n",
    "        \"\"\")\n",
    "    def increment_login_attempt(self):\n",
    "        self.login_attempt +=1\n",
    "    \n",
    "    def reset_login_attempt(self):\n",
    "        self.login_attempt = 0\n",
    "    \n",
    "        \n",
    "        \n",
    "        "
   ]
  },
  {
   "cell_type": "code",
   "execution_count": 5,
   "id": "f56a44e6",
   "metadata": {},
   "outputs": [
    {
     "data": {
      "text/plain": [
       "0"
      ]
     },
     "execution_count": 5,
     "metadata": {},
     "output_type": "execute_result"
    }
   ],
   "source": [
    "user1.login_attempt"
   ]
  },
  {
   "cell_type": "code",
   "execution_count": 6,
   "id": "aef395fd",
   "metadata": {},
   "outputs": [],
   "source": [
    "user1.increment_login_attempt()"
   ]
  },
  {
   "cell_type": "code",
   "execution_count": 7,
   "id": "9f0388e6",
   "metadata": {},
   "outputs": [
    {
     "data": {
      "text/plain": [
       "1"
      ]
     },
     "execution_count": 7,
     "metadata": {},
     "output_type": "execute_result"
    }
   ],
   "source": [
    "user1.login_attempt"
   ]
  },
  {
   "cell_type": "code",
   "execution_count": 8,
   "id": "bda412e5",
   "metadata": {},
   "outputs": [],
   "source": [
    "user1.reset_login_attempt()"
   ]
  },
  {
   "cell_type": "code",
   "execution_count": 9,
   "id": "e58e7060",
   "metadata": {},
   "outputs": [
    {
     "data": {
      "text/plain": [
       "0"
      ]
     },
     "execution_count": 9,
     "metadata": {},
     "output_type": "execute_result"
    }
   ],
   "source": [
    "user1.login_attempt"
   ]
  },
  {
   "cell_type": "code",
   "execution_count": 11,
   "id": "c222b222",
   "metadata": {},
   "outputs": [],
   "source": [
    "class Bank_Account():\n",
    "    def __init__(self,account_title,cnic,initial_deposit, contact):\n",
    "        self.account_title =account_title\n",
    "        self.cnic =cnic\n",
    "        self.balance=initial_deposit\n",
    "        self.contact = contact\n",
    "    def balance_inquiry(self):\n",
    "        return f'Your account balance is {self.balance}'\n",
    "    def deposit(self, amt):\n",
    "        self.balance+=amt\n",
    "        print(f\"Your account has been credited with amt {amt}\")\n",
    "    def withdrawl(self,amt):\n",
    "        if amt > self.balance:\n",
    "            print(\"Insufficient Balance\")\n",
    "        else:\n",
    "            self.balance -=amt\n",
    "            print(\"Your amount.\")\n",
    "  "
   ]
  },
  {
   "cell_type": "code",
   "execution_count": 13,
   "id": "8b22527a",
   "metadata": {},
   "outputs": [],
   "source": [
    "acc1 = Bank_Account('ahmed',123345678, 10000, '54322')"
   ]
  },
  {
   "cell_type": "code",
   "execution_count": 14,
   "id": "aa99dada",
   "metadata": {},
   "outputs": [
    {
     "data": {
      "text/plain": [
       "'ahmed'"
      ]
     },
     "execution_count": 14,
     "metadata": {},
     "output_type": "execute_result"
    }
   ],
   "source": [
    "acc1.account_title"
   ]
  },
  {
   "cell_type": "code",
   "execution_count": 15,
   "id": "f3944869",
   "metadata": {},
   "outputs": [
    {
     "data": {
      "text/plain": [
       "'Your account balance is 10000'"
      ]
     },
     "execution_count": 15,
     "metadata": {},
     "output_type": "execute_result"
    }
   ],
   "source": [
    "acc1.balance_inquiry()"
   ]
  },
  {
   "cell_type": "code",
   "execution_count": 16,
   "id": "b7b5b8e6",
   "metadata": {},
   "outputs": [
    {
     "name": "stdout",
     "output_type": "stream",
     "text": [
      "Your account has been credited with amt 45000\n"
     ]
    }
   ],
   "source": [
    "acc1.deposit(45000)"
   ]
  },
  {
   "cell_type": "code",
   "execution_count": 17,
   "id": "5418afe9",
   "metadata": {},
   "outputs": [
    {
     "data": {
      "text/plain": [
       "'Your account balance is 55000'"
      ]
     },
     "execution_count": 17,
     "metadata": {},
     "output_type": "execute_result"
    }
   ],
   "source": [
    "acc1.balance_inquiry()"
   ]
  },
  {
   "cell_type": "code",
   "execution_count": 18,
   "id": "10bbc4f2",
   "metadata": {},
   "outputs": [
    {
     "name": "stdout",
     "output_type": "stream",
     "text": [
      "Your amount.\n"
     ]
    }
   ],
   "source": [
    "acc1.withdrawl(1)"
   ]
  },
  {
   "cell_type": "code",
   "execution_count": 19,
   "id": "0f93c02a",
   "metadata": {},
   "outputs": [
    {
     "data": {
      "text/plain": [
       "'Your account balance is 54999'"
      ]
     },
     "execution_count": 19,
     "metadata": {},
     "output_type": "execute_result"
    }
   ],
   "source": [
    "acc1.balance_inquiry()"
   ]
  },
  {
   "cell_type": "code",
   "execution_count": 20,
   "id": "01ecdcd8",
   "metadata": {},
   "outputs": [
    {
     "name": "stdout",
     "output_type": "stream",
     "text": [
      "Insufficient Balance\n"
     ]
    }
   ],
   "source": [
    "acc1.withdrawl(100000)"
   ]
  },
  {
   "cell_type": "code",
   "execution_count": 22,
   "id": "8c413a40",
   "metadata": {},
   "outputs": [],
   "source": [
    "class Bank_Account():\n",
    "    # class variables\n",
    "    accounts = []\n",
    "    def __init__(self,account_title,cnic,initial_deposit, contact):\n",
    "        # instance variables\n",
    "        self.account_title =account_title\n",
    "        self.cnic =cnic\n",
    "        self.balance=initial_deposit\n",
    "        self.contact = contact\n",
    "    def balance_inquiry(self):\n",
    "        return f'Your account balance is {self.balance}'\n",
    "    def deposit(self, amt):\n",
    "        self.balance+=amt\n",
    "        print(f\"Your account has been credited with amt {amt}\")\n",
    "    def withdrawl(self,amt):\n",
    "        if amt > self.balance:\n",
    "            print(\"Insufficient Balance\")\n",
    "        else:\n",
    "            self.balance -=amt\n",
    "            print(\"Chal pakr bhai apne paise\")"
   ]
  },
  {
   "cell_type": "code",
   "execution_count": 24,
   "id": "7f73053a",
   "metadata": {},
   "outputs": [],
   "source": [
    "acc1 = Bank_Account('ahmed',56123345678, 10000, '154322')\n",
    "acc2 = Bank_Account('mustafa',4623345678, 5000, '254322')\n",
    "acc3 = Bank_Account('dawood',6123345678, 50000, '754322')\n",
    "acc4 = Bank_Account('bilal',7123345678, 1000, '854322')\n",
    "acc5 = Bank_Account('yaseen',8123345678, 6000, '954322')\n",
    "acc6 = Bank_Account('shayan',9123345678, 10000, '654322')\n",
    "\n",
    "Bank_Account.accounts.append(acc1)\n",
    "Bank_Account.accounts.append(acc2)\n",
    "Bank_Account.accounts.append(acc3)\n",
    "Bank_Account.accounts.append(acc4)\n",
    "Bank_Account.accounts.append(acc5)\n",
    "Bank_Account.accounts.append(acc6)"
   ]
  },
  {
   "cell_type": "code",
   "execution_count": 25,
   "id": "fcaba813",
   "metadata": {},
   "outputs": [
    {
     "name": "stdout",
     "output_type": "stream",
     "text": [
      "Your account has been credited with amt 6000\n"
     ]
    }
   ],
   "source": [
    "acc2.deposit(6000)"
   ]
  },
  {
   "cell_type": "code",
   "execution_count": 26,
   "id": "42e1a0b8",
   "metadata": {},
   "outputs": [
    {
     "data": {
      "text/plain": [
       "'ahmed'"
      ]
     },
     "execution_count": 26,
     "metadata": {},
     "output_type": "execute_result"
    }
   ],
   "source": [
    "Bank_Account.accounts[0].account_title"
   ]
  },
  {
   "cell_type": "code",
   "execution_count": 27,
   "id": "6cfbaf54",
   "metadata": {},
   "outputs": [
    {
     "name": "stdout",
     "output_type": "stream",
     "text": [
      "Welcome To MyBank\n",
      "What do you want to do?\n"
     ]
    },
    {
     "name": "stdin",
     "output_type": "stream",
     "text": [
      "Tell me your account title please 1\n"
     ]
    },
    {
     "name": "stdout",
     "output_type": "stream",
     "text": [
      "<__main__.Bank_Account object at 0x000002D48CDBE510>\n",
      "<__main__.Bank_Account object at 0x000002D48CCC0610>\n",
      "<__main__.Bank_Account object at 0x000002D48CDBE610>\n",
      "<__main__.Bank_Account object at 0x000002D48CDBE8D0>\n",
      "<__main__.Bank_Account object at 0x000002D48CDBE690>\n",
      "<__main__.Bank_Account object at 0x000002D48CDBE910>\n",
      "<__main__.Bank_Account object at 0x000002D48CDBEC50>\n",
      "<__main__.Bank_Account object at 0x000002D48CDBED90>\n",
      "<__main__.Bank_Account object at 0x000002D48CDBEBD0>\n",
      "<__main__.Bank_Account object at 0x000002D48CDBEE50>\n",
      "<__main__.Bank_Account object at 0x000002D48CDBEED0>\n",
      "<__main__.Bank_Account object at 0x000002D48CDBEE90>\n"
     ]
    }
   ],
   "source": [
    "print(\"Welcome To MyBank\")\n",
    "\n",
    "print(\"What do you want to do?\")\n",
    "\n",
    "acc_title  = input(\"Tell me your account title please\")\n",
    "\n",
    "for account in Bank_Account.accounts:\n",
    "    print(account)\n",
    "    if account.account_title!=acc_title:\n",
    "        continue\n",
    "    else:\n",
    "        query = input( \"\"\"\n",
    "                Enter 1 for balance inquiry\n",
    "                 Enter 2 for deposit\n",
    "                 Enter 3 for withdrawl\n",
    "                 Enter q for quit\"\"\"\n",
    "                )\n",
    "        if query==\"q\":\n",
    "            break\n",
    "        elif query==\"1\":\n",
    "            account.balance_inquiry()\n",
    "        elif query==\"2\":\n",
    "            amt = float(input(\"Enter amt\"))\n",
    "            account.deposit(amt)\n",
    "        elif query==\"3\":\n",
    "            amt = float(input(\"Enter amt to draw\"))\n",
    "            account.withdrawl(amt)"
   ]
  },
  {
   "cell_type": "code",
   "execution_count": null,
   "id": "430bff94",
   "metadata": {},
   "outputs": [],
   "source": []
  }
 ],
 "metadata": {
  "kernelspec": {
   "display_name": "Python 3 (ipykernel)",
   "language": "python",
   "name": "python3"
  },
  "language_info": {
   "codemirror_mode": {
    "name": "ipython",
    "version": 3
   },
   "file_extension": ".py",
   "mimetype": "text/x-python",
   "name": "python",
   "nbconvert_exporter": "python",
   "pygments_lexer": "ipython3",
   "version": "3.11.7"
  }
 },
 "nbformat": 4,
 "nbformat_minor": 5
}
